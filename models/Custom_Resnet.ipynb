{
  "nbformat": 4,
  "nbformat_minor": 0,
  "metadata": {
    "colab": {
      "name": "Custom_Resnet.ipynb",
      "provenance": [],
      "collapsed_sections": [],
      "authorship_tag": "ABX9TyON6x4c3mXBjHJ17z3M8Vnd",
      "include_colab_link": true
    },
    "kernelspec": {
      "name": "python3",
      "display_name": "Python 3"
    },
    "language_info": {
      "name": "python"
    }
  },
  "cells": [
    {
      "cell_type": "markdown",
      "metadata": {
        "id": "view-in-github",
        "colab_type": "text"
      },
      "source": [
        "<a href=\"https://colab.research.google.com/github/bharatgirdhar/DeepVisionProject/blob/main/models/Custom_Resnet.ipynb\" target=\"_parent\"><img src=\"https://colab.research.google.com/assets/colab-badge.svg\" alt=\"Open In Colab\"/></a>"
      ]
    },
    {
      "cell_type": "code",
      "metadata": {
        "id": "AjPklYIZg2xw"
      },
      "source": [
        ""
      ],
      "execution_count": null,
      "outputs": []
    },
    {
      "cell_type": "code",
      "metadata": {
        "id": "t7lpNz6qM5o2"
      },
      "source": [
        "import torch\n",
        "import torch.nn as nn\n",
        "import torch.nn.functional as F\n",
        "import torch.optim as optim\n",
        "from torchvision import datasets, transforms\n"
      ],
      "execution_count": 1,
      "outputs": []
    },
    {
      "cell_type": "code",
      "metadata": {
        "id": "5fra_rJaNKf9"
      },
      "source": [
        "class Net(nn.Module):\n",
        "    def __init__(self):\n",
        "        super(Net, self).__init__()\n",
        "\n",
        "#        self.dropout=nn.Dropout(0.05)\n",
        "# Prep Layer\n",
        "        \n",
        "        self.conv0 = nn.Conv2d(3, 64, 3, padding=1, stride=1, bias=False) #32\n",
        "        self.Norm0=nn.BatchNorm2d(64)\n",
        "\n",
        "# Layer 1\n",
        "#X\n",
        "        self.conv1 = nn.Conv2d(64, 128, 3, padding=1, stride=1, bias=False) #32\n",
        "        self.pool1 = nn.MaxPool2d(2, 2)\n",
        "        self.Norm1=nn.BatchNorm2d(128)\n",
        "\n",
        "#Res Block - R1\n",
        "        self.conv1_1 = nn.Conv2d(128, 128, 3, padding=1, stride=1, bias=False) #32\n",
        "        self.Norm1_1=nn.BatchNorm2d(128)\n",
        "\n",
        "        self.conv1_2 = nn.Conv2d(128, 128, 3, padding=1, stride=1, bias=False) #32\n",
        "        self.Norm1_2=nn.BatchNorm2d(128)\n",
        "\n",
        "# Layer 2\n",
        "        self.conv2 = nn.Conv2d(128,256, 3, padding=1, stride=1, bias=False) #32\n",
        "        self.pool2 = nn.MaxPool2d(2, 2)\n",
        "        self.Norm2=nn.BatchNorm2d(256)\n",
        "\n",
        "# Layer 3\n",
        "#X\n",
        "        self.conv3 = nn.Conv2d(256, 512, 3, padding=1, stride=1, bias=False) #32\n",
        "        self.pool3 = nn.MaxPool2d(2, 2)\n",
        "        self.Norm3=nn.BatchNorm2d(512)\n",
        "\n",
        "#Res Block - R2\n",
        "        self.conv3_1 = nn.Conv2d(512, 512, 3, padding=1, stride=1, bias=False) #32\n",
        "        self.Norm3_1=nn.BatchNorm2d(512)\n",
        "\n",
        "        self.conv3_2 = nn.Conv2d(512, 512, 3, padding=1, stride=1, bias=False) #32\n",
        "        self.Norm3_2=nn.BatchNorm2d(512)\n",
        "\n",
        "        self.pool4 = nn.MaxPool2d(4, 4)\n",
        "\n",
        "        self.fc1=nn.Linear(in_features=512, out_features=10)\n",
        "\n",
        "\n",
        "    def forward(self, x):\n",
        "        \n",
        " # Prep Layer\n",
        "        x = F.relu(self.Norm0(self.conv0(x)))\n",
        "        #print(x.shape)\n",
        "# Layer 1\n",
        "        x = F.relu(self.Norm1(self.pool1(self.conv1(x))))\n",
        "\n",
        "# Res Block\n",
        "        #print(x.shape)\n",
        "        #R1=x\n",
        "        R1 = F.relu(self.Norm1_2(self.conv1_2(F.relu(self.Norm1_1(self.conv1_1(x))))))\n",
        "        #x = self.conv7(x)\n",
        "        x = torch.add(x, R1)\n",
        "# Layer 2\n",
        "        x = F.relu(self.Norm2(self.pool2(self.conv2(x))))\n",
        "        \n",
        "# Layer 3\n",
        "        x = F.relu(self.Norm3(self.pool3(self.conv3(x))))\n",
        "\n",
        "# Res Block\n",
        "        #print(x.shape)\n",
        "        #R2=x\n",
        "        R2 = F.relu(self.Norm3_2(self.conv3_2(F.relu(self.Norm3_1(self.conv3_1(x))))))\n",
        "        #x = self.conv7(x)\n",
        "        x = torch.add(x, R2)\n",
        "        \n",
        "        #print(x.shape)\n",
        "        x = self.pool4(x)\n",
        "        \n",
        "        x = x.view(-1, 512)\n",
        "        #print(x.shape)\n",
        "        x=self.fc1(x)\n",
        "        return F.log_softmax(x)"
      ],
      "execution_count": 3,
      "outputs": []
    }
  ]
}